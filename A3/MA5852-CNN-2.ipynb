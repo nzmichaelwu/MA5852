{
 "cells": [
  {
   "cell_type": "markdown",
   "metadata": {},
   "source": [
    "# Week 5: CNN-2 \n",
    "\n",
    "Upul Senanayake\n",
    "\n",
    "Today \n",
    "\n",
    "1. Load raw data and structure the large data into train and test dataset using terminal on SageMaker\n",
    "2. Transfer learning\n",
    "\n",
    "\n",
    "\n",
    "\n"
   ]
  },
  {
   "cell_type": "markdown",
   "metadata": {},
   "source": [
    "### Data\n",
    "\n",
    "Data in this exercise are about dogs and cats images from https://www.kaggle.com/c/dogs-vs-cats. The data is about 1GB.\n",
    "\n",
    "**Tasks**\n",
    "\n",
    "1. Create a ml.p2.xlarge notebook instance\n",
    "2. Download [data from kaggle](https://www.kaggle.com/c/dogs-vs-cats). You will need to have made a kaggle account if you don't already have one.  \n",
    "3. There are two options for obtaining data from Kaggle \n",
    "     - **OPTION 1**: We can download it straight to a SageMake notebook instance using the CurlWget chrome extension and wget as shown [here](https://www.kaggle.com/c/deepfake-detection-challenge/discussion/129521). \n",
    "     - **OPTION 2**: Using the Kaggle API -we download a large data directly from a website to AWS SageMaker. Instructions can be found [here](https://github.com/Kaggle/kaggle-api)\n",
    "     - **OPTION 3**: Download the to our local machine and then upload it to notebook instance (Note: it is not an ideal, especially for large datasets. Use this approach if you have a trouble to get Kaggle API). \n"
   ]
  },
  {
   "cell_type": "markdown",
   "metadata": {},
   "source": [
    "\n",
    "After you have collected your images, we: \n",
    "1. Sort by dataset, such as train, test, and validation, and;\n",
    "2. Sort them by their class. \n",
    "\n",
    "    - Note 1: Remember how we loaded the mnist_fashion data - this is one of the ways that data is structured behind the scenes. \n",
    "    - Note 2: For small dataset, you can do this in your local machine, as explained [here by Jason Brownlee]\n",
    "(https://machinelearningmastery.com/how-to-load-large-datasets-from-directories-for-deep-learning-with-keras/).\n",
    "\n",
    "For example, we wish to classify dogs and cats. \n",
    "\n",
    "First, we have a `data/` directory where we will store all of the images of dogs and cats in the dataset.\n",
    "Next, we will have a `data/train/` directory for the training dataset and a `data/test/` for the holdout test dataset. We may also have a `data/validation/` for a validation dataset during training.\n",
    "\n",
    "We are going to perform this process using AWS SageMaker:\n",
    "\n",
    "We are aiming for data structure that looks like this:  "
   ]
  },
  {
   "cell_type": "raw",
   "metadata": {},
   "source": [
    "data/train\n",
    "data/train/cat\n",
    "data/train/dog\n",
    "data/validation/\n",
    "data/validation/cat\n",
    "data/validation/dog"
   ]
  },
  {
   "cell_type": "code",
   "execution_count": null,
   "metadata": {},
   "outputs": [],
   "source": [
    "sudo chown ec2-user lost+found\n",
    "sudo chgrp ec2-user lost+found"
   ]
  },
  {
   "cell_type": "markdown",
   "metadata": {},
   "source": [
    "The dog and cat images are mixed up in the same folder. Therefore we create a subfolder for each class and move the appropriate images into each folder\n",
    "\n",
    "**The following code is run on the terminal**"
   ]
  },
  {
   "cell_type": "code",
   "execution_count": null,
   "metadata": {},
   "outputs": [],
   "source": [
    "cd SageMaker\n",
    "#unzip data folder\n",
    "unzip dogs-vs-cats.zip\n",
    "#unzip training data\n",
    "unzip train.zip"
   ]
  },
  {
   "cell_type": "code",
   "execution_count": null,
   "metadata": {},
   "outputs": [],
   "source": [
    "cd train # move into training folder\n",
    "mkdir dog cat # creating directories \n",
    "mv cat.* cat/ # move all cat images to cat directory\n",
    "mv dog.* dog/ # move all dog images to dog directory"
   ]
  },
  {
   "cell_type": "markdown",
   "metadata": {},
   "source": [
    "We are now going to generate our own validation set to evaluate the performace of the model containing 1000 dog images and 1000 cat images (not we could have used to in-built test set, but this is to practice generating your own).\n",
    "\n",
    "We are going to generate 1000 random dog images and 1000 random cat images to specific directories."
   ]
  },
  {
   "cell_type": "code",
   "execution_count": null,
   "metadata": {},
   "outputs": [],
   "source": [
    "cd ..\n",
    "mkdir -p val/dog val/cat #make dog and cat directories in val\n",
    "ls train/dog | sort -R |tail -1000 | while read file; do mv train/dog/$file val/dog; done\n",
    "ls train/cat | sort -R |tail -1000 | while read file; do mv train/cat/$file val/cat; done"
   ]
  },
  {
   "cell_type": "markdown",
   "metadata": {},
   "source": [
    "Take a look at the entire dataset"
   ]
  },
  {
   "cell_type": "code",
   "execution_count": null,
   "metadata": {},
   "outputs": [],
   "source": [
    "du -h"
   ]
  },
  {
   "cell_type": "raw",
   "metadata": {},
   "source": [
    "26M     ./val/dog\n",
    "22M     ./val/cat\n",
    "48M     ./val\n",
    "295M    ./train/dog\n",
    "253M    ./train/cat\n",
    "549M    ./train "
   ]
  },
  {
   "cell_type": "markdown",
   "metadata": {},
   "source": [
    "### upload to S3 bucket\n",
    "\n",
    "!!! Remember to select your S3 bucket directory"
   ]
  },
  {
   "cell_type": "code",
   "execution_count": null,
   "metadata": {},
   "outputs": [],
   "source": [
    "aws s3 sync train s3://sagemaker-us-east-2-920448009623/dogscats1/input/train\n",
    "    \n",
    "aws s3 sync val s3://sagemaker-us-east-2-920448009623/dogscats1/input/val"
   ]
  },
  {
   "cell_type": "markdown",
   "metadata": {},
   "source": [
    "# Transfer learning\n",
    "\n",
    "\n",
    "- Transfer learning uses models trained on a similar problem as a starting point for another related problem\n",
    "- Transfer learning save training time for CNN.\n",
    "\n",
    "**In this example**\n",
    " - We will hold the weights of all of the convolutional layers in VGG16 fixed during training, and only train new fully connected layers that are for image classification. \n",
    " - We do that by loading the VGG-16 model, removing the fully connected layers from the output-end of the model, then adding the new fully connected layers to make a binary prediction. \n",
    " - It will take approximately 20 minutes to run\n",
    " \n",
    " \n",
    "**References**\n",
    "\n",
    "\n",
    "\n",
    "- Keras provides an access to a number of CNN models via the Appliction API https://keras.io/api/applications/\n",
    "\n",
    "Credit to https://machinelearningmastery.com/how-to-use-transfer-learning-when-developing-convolutional-neural-network-models/\n"
   ]
  },
  {
   "cell_type": "code",
   "execution_count": 8,
   "metadata": {},
   "outputs": [
    {
     "name": "stdout",
     "output_type": "stream",
     "text": [
      "2.72.1\n"
     ]
    }
   ],
   "source": [
    "import sagemaker #import sagemaker\n",
    "print(sagemaker.__version__) #print the sagemaker version\n",
    "sess = sagemaker.Session() ### Manages interactions with the Amazon SageMaker APIs and \n",
    "                           ### any other AWS services needed e.g. S3\n",
    "role = sagemaker.get_execution_role() ### Get and save the IAM role as environment variable"
   ]
  },
  {
   "cell_type": "code",
   "execution_count": 9,
   "metadata": {},
   "outputs": [],
   "source": [
    "# vgg16 model used for transfer learning on the dogs and cats dataset\n",
    "import sys\n",
    "import os\n",
    "import keras\n",
    "from matplotlib import pyplot\n",
    "from keras.applications.vgg16 import VGG16\n",
    "from keras.models import Model\n",
    "from keras.layers import Dense\n",
    "from keras.layers import Flatten\n",
    "from keras.optimizers import SGD\n",
    "from keras.preprocessing.image import ImageDataGenerator\n",
    "  "
   ]
  },
  {
   "cell_type": "markdown",
   "metadata": {},
   "source": [
    "**Including a pricture of VGG16 structure here**\n",
    "\n",
    "- The VGG16 model was trained on a ImageNet challenge dataset.\n",
    "- The input images have a shape 224 x224 pixels.\n",
    "\n",
    "1. **include_top**: whether to include the 3 fully-connected layers at the top of the network.\n",
    "weights: one of None (random initialization), 'imagenet' (pre-training on ImageNet), or the path to the weights file to be loaded.\n",
    "2. **input_shape**: optional shape tuple, only to be specified if include_top is False (otherwise the input shape has to be (224, 224, 3) (with channels_last data format) or (3, 224, 224) (with channels_first data format). It should have exactly 3 input channels, and width and height should be no smaller than 32. E.g. (200, 200, 3) would be one valid value.\n",
    "3. **classes**: optional number of classes to classify images into, only to be specified if include_top is True, and if no weights argument is specified.\n",
    "4. **classifier_activation**: A str or callable. The activation function to use on the \"top\" layer. Ignored unless include_top=True. Set classifier_activation=None to return the logits of the \"top\" layer. When loading pretrained weights, classifier_activation can only be None or \"softmax\".\n",
    "\n",
    "\n",
    "\n",
    "More details are  https://keras.io/api/applications/"
   ]
  },
  {
   "cell_type": "code",
   "execution_count": 10,
   "metadata": {},
   "outputs": [
    {
     "name": "stdout",
     "output_type": "stream",
     "text": [
      "Found 23000 images belonging to 2 classes.\n",
      "Found 2000 images belonging to 2 classes.\n",
      "Epoch 1/5\n",
      "360/360 [==============================] - 220s 611ms/step - loss: 0.5940 - acc: 0.9560 - val_loss: 0.7359 - val_acc: 0.9480\n",
      "Epoch 2/5\n",
      "360/360 [==============================] - 222s 615ms/step - loss: 0.3574 - acc: 0.9724 - val_loss: 0.2164 - val_acc: 0.9760\n",
      "Epoch 3/5\n",
      "360/360 [==============================] - 222s 617ms/step - loss: 0.0828 - acc: 0.9827 - val_loss: 0.0842 - val_acc: 0.9770\n",
      "Epoch 4/5\n",
      "360/360 [==============================] - 222s 616ms/step - loss: 0.0281 - acc: 0.9921 - val_loss: 0.0776 - val_acc: 0.9790\n",
      "Epoch 5/5\n",
      "360/360 [==============================] - 222s 617ms/step - loss: 0.0121 - acc: 0.9973 - val_loss: 0.0893 - val_acc: 0.9790\n",
      "> 97.800\n"
     ]
    },
    {
     "data": {
      "image/png": "[encoded data removed]",
      "text/plain": [
       "<Figure size 432x288 with 2 Axes>"
      ]
     },
     "metadata": {
      "needs_background": "light"
     },
     "output_type": "display_data"
    }
   ],
   "source": [
    "\n",
    "def define_model():\n",
    "\t# load model\n",
    "\tmodel = VGG16(include_top=False, input_shape=(224, 224, 3))\n",
    "\t# mark loaded layers as not trainable\n",
    "\tfor layer in model.layers:\n",
    "\t\tlayer.trainable = False\n",
    "\t# add new classifier layers\n",
    "\tflat1 = Flatten()(model.layers[-1].output)\n",
    "\tclass1 = Dense(128, activation='relu', kernel_initializer='he_uniform')(flat1)\n",
    "\toutput = Dense(1, activation='sigmoid')(class1)\n",
    "\t# define new model\n",
    "\tmodel = Model(inputs=model.inputs, outputs=output)\n",
    "\t# compile model\n",
    "\topt = SGD(lr=0.001, momentum=0.9)\n",
    "\tmodel.compile(optimizer=opt, loss='binary_crossentropy', metrics=['accuracy'])\n",
    "\treturn model\n",
    "\n",
    "# plot diagnostic learning curves\n",
    "def summarize_diagnostics(history):\n",
    "\t# plot loss\n",
    "\tpyplot.subplot(211)\n",
    "\tpyplot.title('Cross Entropy Loss')\n",
    "\tpyplot.plot(history.history['loss'], color='blue', label='train')\n",
    "\tpyplot.plot(history.history['val_loss'], color='orange', label='test')\n",
    "\t# plot accuracy\n",
    "\tpyplot.subplot(212)\n",
    "\tpyplot.title('Classification Accuracy')\n",
    "\tpyplot.plot(history.history['acc'], color='blue', label='train')\n",
    "\tpyplot.plot(history.history['val_acc'], color='orange', label='test')\n",
    "\t# save plot to file\n",
    "\tfilename = sys.argv[0].split('/')[-1]\n",
    "\tpyplot.savefig(filename + '_plot.png')\n",
    "\n",
    "# Training\n",
    "# define model\n",
    "model = define_model()\n",
    "# create data generator\n",
    "datagen = ImageDataGenerator(featurewise_center=True)\n",
    "# specify imagenet mean values for centering\n",
    "datagen.mean = [123.68, 116.779, 103.939]\n",
    "# prepare iterator\n",
    "train_model = datagen.flow_from_directory('train/',class_mode='binary', batch_size=64, target_size=(224, 224))\n",
    "test_model = datagen.flow_from_directory('val/',class_mode='binary', batch_size=64, target_size=(224, 224))\n",
    "# fit model\n",
    "history = model.fit_generator(train_model, steps_per_epoch=len(train_model),validation_data=test_model, validation_steps=len(test_model), epochs=5, verbose=1)\n",
    "# evaluate model\n",
    "_, acc = model.evaluate_generator(test_model, steps=len(test_model), verbose=0)\n",
    "print('> %.3f' % (acc * 100.0))\n",
    "# learning curves\n",
    "summarize_diagnostics(history)\n"
   ]
  },
  {
   "cell_type": "markdown",
   "metadata": {},
   "source": [
    "Notice that the accuracy is relatively high for the valuation dataset 99.95%"
   ]
  },
  {
   "cell_type": "markdown",
   "metadata": {},
   "source": [
    "**Homework**:\n",
    "Use script mode for transfer learning."
   ]
  }
 ],
 "metadata": {
  "kernelspec": {
   "display_name": "conda_tensorflow_p36",
   "language": "python",
   "name": "conda_tensorflow_p36"
  },
  "language_info": {
   "codemirror_mode": {
    "name": "ipython",
    "version": 3
   },
   "file_extension": ".py",
   "mimetype": "text/x-python",
   "name": "python",
   "nbconvert_exporter": "python",
   "pygments_lexer": "ipython3",
   "version": "3.6.13"
  }
 },
 "nbformat": 4,
 "nbformat_minor": 4
}
